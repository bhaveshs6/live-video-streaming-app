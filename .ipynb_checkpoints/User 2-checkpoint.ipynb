{
 "cells": [
  {
   "cell_type": "markdown",
   "metadata": {},
   "source": [
    "# Client "
   ]
  },
  {
   "cell_type": "code",
   "execution_count": null,
   "metadata": {},
   "outputs": [],
   "source": [
    "import socket\n",
    "import cv2\n",
    "import numpy as np\n",
    "import threading\n",
    "s = socket.socket(socket.AF_INET,socket.SOCK_DGRAM)\n",
    "\n",
    "cap = cv2.VideoCapture(1)"
   ]
  },
  {
   "cell_type": "code",
   "execution_count": null,
   "metadata": {},
   "outputs": [],
   "source": [
    "def client1():\n",
    "    while True:\n",
    "        ret, img = cap.read()\n",
    "        img = cv2.resize(img,(300,300))\n",
    "        img_encode=cv2.imencode(\".jpg\", img)[1]\n",
    "        data_encode=np.array(img_encode)\n",
    "        data=data_encode.tobytes()\n",
    "\n",
    "        s.sendto(data,('192.168.1.3',1234))\n",
    "        #cap.release()\n",
    "sock2 = socket.socket(socket.AF_INET,socket.SOCK_DGRAM)\n",
    "sock2.bind(('192.168.1.3',8081))\n",
    "\n"
   ]
  },
  {
   "cell_type": "markdown",
   "metadata": {},
   "source": [
    "# Server2 "
   ]
  },
  {
   "cell_type": "code",
   "execution_count": null,
   "metadata": {},
   "outputs": [],
   "source": [
    "def server2():\n",
    "    while True:\n",
    "        data = sock2.recvfrom(800000)\n",
    "        img = data[0]\n",
    "        nparr = np.frombuffer(img,np.uint8)\n",
    "        decode = cv2.imdecode(nparr,cv2.IMREAD_GRAYSCALE)\n",
    "        cv2.imshow('frame2',decode)\n",
    "        if cv2.waitKey(10) == 13:\n",
    "            break\n",
    "\n",
    "    cv2.destroyAllWindows()"
   ]
  },
  {
   "cell_type": "code",
   "execution_count": null,
   "metadata": {},
   "outputs": [],
   "source": [
    "c1 = threading.Thread(target=client1)\n",
    "s2 = threading.Thread(target=server2)"
   ]
  },
  {
   "cell_type": "code",
   "execution_count": null,
   "metadata": {},
   "outputs": [],
   "source": [
    "c1.start()\n",
    "s2.start()"
   ]
  },
  {
   "cell_type": "code",
   "execution_count": null,
   "metadata": {},
   "outputs": [],
   "source": []
  },
  {
   "cell_type": "code",
   "execution_count": null,
   "metadata": {},
   "outputs": [],
   "source": []
  }
 ],
 "metadata": {
  "kernelspec": {
   "display_name": "Python 3",
   "language": "python",
   "name": "python3"
  },
  "language_info": {
   "codemirror_mode": {
    "name": "ipython",
    "version": 3
   },
   "file_extension": ".py",
   "mimetype": "text/x-python",
   "name": "python",
   "nbconvert_exporter": "python",
   "pygments_lexer": "ipython3",
   "version": "3.7.10"
  }
 },
 "nbformat": 4,
 "nbformat_minor": 4
}
