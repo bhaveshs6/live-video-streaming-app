{
 "cells": [
  {
   "cell_type": "markdown",
   "metadata": {},
   "source": [
    "# Server "
   ]
  },
  {
   "cell_type": "code",
   "execution_count": null,
   "metadata": {},
   "outputs": [],
   "source": [
    "import socket \n",
    "import cv2\n",
    "import numpy as np\n",
    "import threading\n",
    "s = socket.socket(socket.AF_INET,socket.SOCK_DGRAM)\n",
    "s.bind(('192.168.1.3',1234))"
   ]
  },
  {
   "cell_type": "code",
   "execution_count": null,
   "metadata": {},
   "outputs": [],
   "source": [
    "def server1():\n",
    "    while True:\n",
    "        data = s.recvfrom(800000)\n",
    "        img = data[0]\n",
    "        nparr = np.frombuffer(img,np.uint8)\n",
    "        decode = cv2.imdecode(nparr,cv2.IMREAD_GRAYSCALE)\n",
    "        cv2.imshow('frame1',decode)\n",
    "        if cv2.waitKey(10) == 13:\n",
    "            break\n",
    "    cv2.destroyAllWindows()"
   ]
  },
  {
   "cell_type": "markdown",
   "metadata": {},
   "source": [
    "# Client 2 "
   ]
  },
  {
   "cell_type": "code",
   "execution_count": null,
   "metadata": {},
   "outputs": [],
   "source": [
    "sock2 = socket.socket(socket.AF_INET,socket.SOCK_DGRAM)\n",
    "cap = cv2.VideoCapture(0)"
   ]
  },
  {
   "cell_type": "code",
   "execution_count": null,
   "metadata": {},
   "outputs": [],
   "source": [
    "def client2():\n",
    "    while True:\n",
    "        ret,img = cap.read()\n",
    "        img = cv2.resize(img,(300,300))\n",
    "        img_encode=cv2.imencode(\".jpg\", img)[1]\n",
    "        data_encode=np.array(img_encode)\n",
    "        data=data_encode.tobytes()\n",
    "\n",
    "        sock2.sendto(data,('192.168.1.3',8081))\n"
   ]
  },
  {
   "cell_type": "code",
   "execution_count": null,
   "metadata": {},
   "outputs": [],
   "source": [
    "s1 = threading.Thread(target=server1)\n",
    "c2 = threading.Thread(target=client2)\n"
   ]
  },
  {
   "cell_type": "code",
   "execution_count": null,
   "metadata": {},
   "outputs": [],
   "source": [
    "s1.start()\n",
    "c2.start()"
   ]
  },
  {
   "cell_type": "code",
   "execution_count": null,
   "metadata": {},
   "outputs": [],
   "source": []
  },
  {
   "cell_type": "code",
   "execution_count": null,
   "metadata": {},
   "outputs": [],
   "source": []
  }
 ],
 "metadata": {
  "kernelspec": {
   "display_name": "Python 3",
   "language": "python",
   "name": "python3"
  },
  "language_info": {
   "codemirror_mode": {
    "name": "ipython",
    "version": 3
   },
   "file_extension": ".py",
   "mimetype": "text/x-python",
   "name": "python",
   "nbconvert_exporter": "python",
   "pygments_lexer": "ipython3",
   "version": "3.7.10"
  }
 },
 "nbformat": 4,
 "nbformat_minor": 4
}
